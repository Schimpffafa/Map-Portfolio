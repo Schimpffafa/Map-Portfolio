{
 "cells": [
  {
   "cell_type": "code",
   "execution_count": 1,
   "metadata": {},
   "outputs": [],
   "source": [
    "import arcpy"
   ]
  },
  {
   "cell_type": "code",
   "execution_count": 2,
   "metadata": {},
   "outputs": [
    {
     "name": "stdout",
     "output_type": "stream",
     "text": [
      "Input: c:\\SchimpffGIS\\data\\ky.gdb Output: c:\\SchimpffGIS\\data\\landcover.gdb\n"
     ]
    }
   ],
   "source": [
    "# Input database\n",
    "# for future use: edit \"ky_small_scale\"\n",
    "inputDB = 'c:\\\\SchimpffGIS\\\\data\\\\ky.gdb'\n",
    "\n",
    "# Create string representing output locations\n",
    "myData = 'c:\\\\SchimpffGIS\\\\data'\n",
    "myDB = 'landcover.gdb'\n",
    "outputDB = f'{myData}\\\\{myDB}'\n",
    "\n",
    "# Verify\n",
    "print(f'Input: {inputDB} Output: {outputDB}')\n",
    "\n",
    "# AOI in input database\n",
    "# for future use: edit 'state_polygon'\n",
    "aoi = 'state_polygon'"
   ]
  },
  {
   "cell_type": "code",
   "execution_count": 3,
   "metadata": {},
   "outputs": [],
   "source": [
    "# Input database\n",
    "# for future use: edit env.workspace location\n",
    "arcpy.env.workspace = 'c:\\\\SchimpffGIS\\\\data\\\\ky.gdb'\n",
    "# Define output CRS\n",
    "ky = arcpy.SpatialReference(3089)\n",
    "# Set the output CRS\n",
    "arcpy.env.outputCoordinateSystem = ky\n",
    "# CRS is WGS84\n",
    "wgs84 = arcpy.SpatialReference(4326)\n",
    "# Enable overwriting exist layers\n",
    "arcpy.env.overwriteOutput = True"
   ]
  },
  {
   "cell_type": "code",
   "execution_count": null,
   "metadata": {},
   "outputs": [],
   "source": []
  },
  {
   "cell_type": "code",
   "execution_count": null,
   "metadata": {},
   "outputs": [],
   "source": []
  },
  {
   "cell_type": "code",
   "execution_count": 8,
   "metadata": {},
   "outputs": [
    {
     "data": {
      "text/html": [
       "<div class='gpresult'><h2>Messages</h2><div id='messages' data-messages='[\"Start Time: Tuesday, January 30, 2024 5:36:11 PM\",\"Succeeded at Tuesday, January 30, 2024 5:36:11 PM (Elapsed Time: 0.41 seconds)\"]' data-show='true'><div id = 'default' /></div></div>"
      ],
      "text/plain": [
       "<Result 'c:\\\\SchimpffGIS\\\\data\\\\ky_small_scale.gdb\\\\aoi'>"
      ]
     },
     "execution_count": 8,
     "metadata": {},
     "output_type": "execute_result"
    }
   ],
   "source": []
  },
  {
   "cell_type": "code",
   "execution_count": 9,
   "metadata": {},
   "outputs": [
    {
     "data": {
      "text/html": [
       "<div class='gpresult'><h2>Messages</h2><div id='messages' data-messages='[\"Start Time: Tuesday, January 30, 2024 5:41:09 PM\",\"Succeeded at Tuesday, January 30, 2024 5:41:09 PM (Elapsed Time: 0.38 seconds)\"]' data-show='true'><div id = 'default' /></div></div>"
      ],
      "text/plain": [
       "<Result 'c:\\\\SchimpffGIS\\\\data\\\\ky_small_scale.gdb\\\\aoi_polygon'>"
      ]
     },
     "execution_count": 9,
     "metadata": {},
     "output_type": "execute_result"
    }
   ],
   "source": []
  },
  {
   "cell_type": "code",
   "execution_count": 8,
   "metadata": {},
   "outputs": [
    {
     "name": "stdout",
     "output_type": "stream",
     "text": [
      "c:\\SchimpffGIS\\data\\landcover.gdb\n"
     ]
    }
   ],
   "source": [
    "print(outputDB)"
   ]
  },
  {
   "cell_type": "code",
   "execution_count": 9,
   "metadata": {},
   "outputs": [
    {
     "name": "stdout",
     "output_type": "stream",
     "text": [
      "Creating workspace geodatabase...\n",
      "Output database exists: c:\\SchimpffGIS\\data\\landcover.gdb\n",
      "Using c:\\SchimpffGIS\\data\\ky.gdb for input data.\n"
     ]
    }
   ],
   "source": [
    "# Creating output database\n",
    "print(\"Creating workspace geodatabase...\")\n",
    "# Check if it already exists\n",
    "if arcpy.Exists(outputDB):\n",
    "    print(f\"Output database exists: {outputDB}\")\n",
    "else:\n",
    "    arcpy.management.CreateFileGDB(myData, myDB)\n",
    "    print(f\"Created output database: {outputDB}\")\n",
    "    \n",
    "print(f\"Using {arcpy.env.workspace} for input data.\")"
   ]
  },
  {
   "cell_type": "code",
   "execution_count": 16,
   "metadata": {},
   "outputs": [
    {
     "name": "stdout",
     "output_type": "stream",
     "text": [
      "state_polygon\n",
      "['counties', 'gnis', 'incoporated_places', 'state_polygon', 'roads', 'streams', 'waterbodies', 'miguels', 'one_mi_miguels', 'gnis_miguels', 'KingdomComeStatePark', 'fiveMiKingdom', 'gnisKCSP']\n"
     ]
    }
   ],
   "source": [
    "aoi_polygon = \"state_polygon\"\n",
    "print(aoi_polygon)\n",
    "features = arcpy.ListFeatureClasses()\n",
    "print(features)"
   ]
  },
  {
   "cell_type": "code",
   "execution_count": 17,
   "metadata": {},
   "outputs": [
    {
     "name": "stdout",
     "output_type": "stream",
     "text": [
      "Clipping counties with state_polygon and outputting layer to c:\\SchimpffGIS\\data\\landcover.gdb\\counties ...\n",
      "Clipping gnis with state_polygon and outputting layer to c:\\SchimpffGIS\\data\\landcover.gdb\\gnis ...\n",
      "Clipping incoporated_places with state_polygon and outputting layer to c:\\SchimpffGIS\\data\\landcover.gdb\\incoporated_places ...\n",
      "Copying state_polygon to c:\\SchimpffGIS\\data\\landcover.gdb\\state_polygon\n",
      "Clipping roads with state_polygon and outputting layer to c:\\SchimpffGIS\\data\\landcover.gdb\\roads ...\n",
      "Clipping streams with state_polygon and outputting layer to c:\\SchimpffGIS\\data\\landcover.gdb\\streams ...\n",
      "Clipping waterbodies with state_polygon and outputting layer to c:\\SchimpffGIS\\data\\landcover.gdb\\waterbodies ...\n",
      "Clipping miguels with state_polygon and outputting layer to c:\\SchimpffGIS\\data\\landcover.gdb\\miguels ...\n",
      "Clipping one_mi_miguels with state_polygon and outputting layer to c:\\SchimpffGIS\\data\\landcover.gdb\\one_mi_miguels ...\n",
      "Clipping gnis_miguels with state_polygon and outputting layer to c:\\SchimpffGIS\\data\\landcover.gdb\\gnis_miguels ...\n",
      "Clipping KingdomComeStatePark with state_polygon and outputting layer to c:\\SchimpffGIS\\data\\landcover.gdb\\KingdomComeStatePark ...\n",
      "Clipping fiveMiKingdom with state_polygon and outputting layer to c:\\SchimpffGIS\\data\\landcover.gdb\\fiveMiKingdom ...\n",
      "Clipping gnisKCSP with state_polygon and outputting layer to c:\\SchimpffGIS\\data\\landcover.gdb\\gnisKCSP ...\n",
      "Clipping shaded_relief with state_polygon and outputting layer to c:\\SchimpffGIS\\data\\landcover.gdb\\shaded_relief ...\n",
      "Clipping DEM_120_M with state_polygon and outputting layer to c:\\SchimpffGIS\\data\\landcover.gdb\\DEM_120_M ...\n",
      "Clipping NLCD_2016_land_cover with state_polygon and outputting layer to c:\\SchimpffGIS\\data\\landcover.gdb\\NLCD_2016_land_cover ...\n"
     ]
    }
   ],
   "source": [
    "# Clip vector layers\n",
    "# Create a list of feature class names\n",
    "features = arcpy.ListFeatureClasses()\n",
    "# Loop over list of features\n",
    "for feature in features:\n",
    "    # Make output name\n",
    "    output = f\"{outputDB}\\\\{feature}\"\n",
    "    # If aoi, then don't clip; copy\n",
    "    if feature == aoi_polygon: #aoi_polygon\n",
    "        arcpy.management.Copy(feature, output)\n",
    "        print(f\"Copying {feature} to {output}\")\n",
    "    else:\n",
    "        print(f\"Clipping {feature} with {aoi} and outputting layer to {output} ...\")\n",
    "        arcpy.analysis.Clip(feature, aoi_polygon, output)\n",
    "\n",
    "# Clip raster layers\n",
    "# Create a list of raster names\n",
    "rasters = arcpy.ListRasters()\n",
    "# Loop over list of rasters\n",
    "for raster in rasters:\n",
    "    output = f\"{outputDB}\\\\{raster}\"\n",
    "    print(f\"Clipping {raster} with {aoi} and outputting layer to {output} ...\")\n",
    "    arcpy.management.Clip(raster, \"#\", output, aoi_polygon, \"#\", \"ClippingGeometry\", \"#\")"
   ]
  },
  {
   "cell_type": "code",
   "execution_count": 18,
   "metadata": {},
   "outputs": [],
   "source": [
    "arcpy.env.workspace = outputDB"
   ]
  },
  {
   "cell_type": "code",
   "execution_count": 19,
   "metadata": {},
   "outputs": [
    {
     "name": "stdout",
     "output_type": "stream",
     "text": [
      "c:\\SchimpffGIS\\data\\landcover.gdb\n"
     ]
    }
   ],
   "source": [
    "print(arcpy.env.workspace)"
   ]
  },
  {
   "cell_type": "code",
   "execution_count": 20,
   "metadata": {},
   "outputs": [
    {
     "name": "stdout",
     "output_type": "stream",
     "text": [
      "1.86%, 749.6 sq mi of Open Water\n",
      "4.57%, 1847.1 sq mi of Developed, Open Space\n",
      "1.6%, 646.1 sq mi of Developed, Low Intensity\n",
      "0.69%, 278.7 sq mi of Developed, Medium Intensity\n",
      "0.28%, 112.3 sq mi of Developed, High Intensity\n",
      "0.4%, 162.4 sq mi of Barren Land\n",
      "42.9%, 17326.0 sq mi of Deciduous Forest\n",
      "1.03%, 417.3 sq mi of Evergreen Forest\n",
      "9.76%, 3941.0 sq mi of Mixed Forest\n",
      "0.73%, 294.0 sq mi of Shrub/Scrub\n",
      "1.29%, 521.2 sq mi of Herbaceuous\n",
      "21.83%, 8814.0 sq mi of Hay/Pasture\n",
      "11.75%, 4744.7 sq mi of Cultivated Crops\n",
      "1.12%, 453.6 sq mi of Woody Wetlands\n",
      "0.19%, 75.0 sq mi of Emergent Herbaceuous Wetlands\n"
     ]
    }
   ],
   "source": [
    "sumCover = 0\n",
    "with arcpy.da.SearchCursor('NLCD_2016_land_cover', ['Count']) as cursor:\n",
    "    for row in cursor:\n",
    "        sumCover += row[0]\n",
    "with arcpy.da.SearchCursor('NLCD_2016_land_cover', ['Count', 'NLCD_Land_Cover_Class']) as cursor:\n",
    "    for row in cursor:\n",
    "        a = (row[0]/sumCover) * 100\n",
    "        b = (row[0] * 98.4**2) / 2.788e+7\n",
    "        a = round(a, 2)\n",
    "        b = round(b, 1)\n",
    "        c = f'{a}%, {b} sq mi of {row[1]}'\n",
    "        print(c)"
   ]
  },
  {
   "cell_type": "code",
   "execution_count": null,
   "metadata": {},
   "outputs": [],
   "source": []
  }
 ],
 "metadata": {
  "kernelspec": {
   "display_name": "ArcGISPro",
   "language": "Python",
   "name": "python3"
  },
  "language_info": {
   "file_extension": ".py",
   "name": "python",
   "version": "3"
  }
 },
 "nbformat": 4,
 "nbformat_minor": 2
}

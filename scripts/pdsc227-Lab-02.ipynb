{
 "cells": [
  {
   "cell_type": "code",
   "execution_count": 1,
   "metadata": {},
   "outputs": [],
   "source": [
    "import arcpy"
   ]
  },
  {
   "cell_type": "code",
   "execution_count": 2,
   "metadata": {},
   "outputs": [
    {
     "name": "stdout",
     "output_type": "stream",
     "text": [
      "Input: c:\\SchimpffGIS\\data\\ky_small_scale.gdb Output: c:\\SchimpffGIS\\data\\bluegrass_crops.gdb\n"
     ]
    }
   ],
   "source": [
    "# Input database\n",
    "# for future use: edit \"ky_small_scale\"\n",
    "inputDB = 'c:\\\\SchimpffGIS\\\\data\\\\ky_small_scale.gdb'\n",
    "\n",
    "# Create string representing output locations\n",
    "myData = 'c:\\\\SchimpffGIS\\\\data'\n",
    "myDB = 'bluegrass_crops.gdb'\n",
    "outputDB = f'{myData}\\\\{myDB}'\n",
    "\n",
    "# Verify\n",
    "print(f'Input: {inputDB} Output: {outputDB}')\n",
    "\n",
    "# AOI in input database\n",
    "# for future use: edit 'state_polygon'\n",
    "aoi = 'state_polygon'"
   ]
  },
  {
   "cell_type": "code",
   "execution_count": 5,
   "metadata": {},
   "outputs": [],
   "source": [
    "# Input database\n",
    "# for future use: edit env.workspace location\n",
    "arcpy.env.workspace = 'c:\\\\SchimpffGIS\\\\data\\\\ky_small_scale.gdb'\n",
    "# Define output CRS\n",
    "ky = arcpy.SpatialReference(3089)\n",
    "# Set the output CRS\n",
    "arcpy.env.outputCoordinateSystem = ky\n",
    "# CRS is WGS84\n",
    "wgs84 = arcpy.SpatialReference(4326)\n",
    "# Enable overwriting exist layers\n",
    "arcpy.env.overwriteOutput = True"
   ]
  },
  {
   "cell_type": "code",
   "execution_count": 6,
   "metadata": {},
   "outputs": [
    {
     "data": {
      "image/svg+xml": [
       "<svg xmlns=\"http://www.w3.org/2000/svg\" xmlns:xlink=\"http://www.w3.org/1999/xlink\" width=\"100.0\" height=\"100.0\" viewBox=\"-85.497024 37.046372 2.0 2.0\" preserveAspectRatio=\"xMinYMin meet\"><g transform=\"matrix(1,0,0,-1,0,76.092744)\"><circle cx=\"-84.497024\" cy=\"38.046372\" r=\"0.06\" stroke=\"#555555\" stroke-width=\"0.02\" fill=\"#66cc99\" opacity=\"0.6\" /></g></svg>"
      ],
      "text/plain": [
       "<PointGeometry object at 0x1aa83533970[0x1aa835337e0]>"
      ]
     },
     "execution_count": 6,
     "metadata": {},
     "output_type": "execute_result"
    }
   ],
   "source": [
    "# set the location of the intersection at Main and Limestone\n",
    "lat = 38.046372\n",
    "lon = -84.497024\n",
    "# create point\n",
    "point = arcpy.Point(lon, lat)\n",
    "# create point geometry using wgs84\n",
    "ptGeometry = arcpy.PointGeometry(point, wgs84)\n",
    "# show that bad boy below\n",
    "ptGeometry"
   ]
  },
  {
   "cell_type": "code",
   "execution_count": 7,
   "metadata": {},
   "outputs": [
    {
     "data": {
      "text/html": [
       "<div class='gpresult'><h2>Messages</h2><div id='messages' data-messages='[\"Start Time: Tuesday, January 30, 2024 5:34:25 PM\",\"Succeeded at Tuesday, January 30, 2024 5:34:26 PM (Elapsed Time: 0.78 seconds)\"]' data-show='true'><div id = 'default' /></div></div>"
      ],
      "text/plain": [
       "<Result 'c:\\\\SchimpffGIS\\\\data\\\\ky_small_scale.gdb\\\\downtownLex'>"
      ]
     },
     "execution_count": 7,
     "metadata": {},
     "output_type": "execute_result"
    }
   ],
   "source": [
    "# there he is ^^\n",
    "# save the point to a feature class in workspace\n",
    "arcpy.management.CopyFeatures(ptGeometry, \"downtownLex\")\n"
   ]
  },
  {
   "cell_type": "code",
   "execution_count": 8,
   "metadata": {},
   "outputs": [
    {
     "data": {
      "text/html": [
       "<div class='gpresult'><h2>Messages</h2><div id='messages' data-messages='[\"Start Time: Tuesday, January 30, 2024 5:36:11 PM\",\"Succeeded at Tuesday, January 30, 2024 5:36:11 PM (Elapsed Time: 0.41 seconds)\"]' data-show='true'><div id = 'default' /></div></div>"
      ],
      "text/plain": [
       "<Result 'c:\\\\SchimpffGIS\\\\data\\\\ky_small_scale.gdb\\\\aoi'>"
      ]
     },
     "execution_count": 8,
     "metadata": {},
     "output_type": "execute_result"
    }
   ],
   "source": [
    "# create a 10-mile buffer around the point, creates a 20mi diameter circular polygon\n",
    "arcpy.analysis.Buffer(\"downtownLex\", \"aoi\", \"10 mile\")"
   ]
  },
  {
   "cell_type": "code",
   "execution_count": 9,
   "metadata": {},
   "outputs": [
    {
     "data": {
      "text/html": [
       "<div class='gpresult'><h2>Messages</h2><div id='messages' data-messages='[\"Start Time: Tuesday, January 30, 2024 5:41:09 PM\",\"Succeeded at Tuesday, January 30, 2024 5:41:09 PM (Elapsed Time: 0.38 seconds)\"]' data-show='true'><div id = 'default' /></div></div>"
      ],
      "text/plain": [
       "<Result 'c:\\\\SchimpffGIS\\\\data\\\\ky_small_scale.gdb\\\\aoi_polygon'>"
      ]
     },
     "execution_count": 9,
     "metadata": {},
     "output_type": "execute_result"
    }
   ],
   "source": [
    "# convert circular polygon to square polygon. output name 'aoi_polygon'\n",
    "arcpy.management.FeatureEnvelopeToPolygon(\"aoi\", \"aoi_polygon\")"
   ]
  },
  {
   "cell_type": "code",
   "execution_count": 10,
   "metadata": {},
   "outputs": [
    {
     "name": "stdout",
     "output_type": "stream",
     "text": [
      "c:\\SchimpffGIS\\data\\bluegrass_crops.gdb\n"
     ]
    }
   ],
   "source": [
    "print(outputDB)"
   ]
  },
  {
   "cell_type": "code",
   "execution_count": 11,
   "metadata": {},
   "outputs": [
    {
     "name": "stdout",
     "output_type": "stream",
     "text": [
      "Creating workspace geodatabase...\n",
      "Created output database: c:\\SchimpffGIS\\data\\bluegrass_crops.gdb\n",
      "Using c:\\SchimpffGIS\\data\\ky_small_scale.gdb for input data.\n"
     ]
    }
   ],
   "source": [
    "# Creating output database\n",
    "print(\"Creating workspace geodatabase...\")\n",
    "# Check if it already exists\n",
    "if arcpy.Exists(outputDB):\n",
    "    print(f\"Output database exists: {outputDB}\")\n",
    "else:\n",
    "    arcpy.management.CreateFileGDB(myData, myDB)\n",
    "    print(f\"Created output database: {outputDB}\")\n",
    "    \n",
    "print(f\"Using {arcpy.env.workspace} for input data.\")"
   ]
  },
  {
   "cell_type": "code",
   "execution_count": 14,
   "metadata": {},
   "outputs": [],
   "source": [
    "aoi_polygon = \"aoi_polygon\""
   ]
  },
  {
   "cell_type": "code",
   "execution_count": 15,
   "metadata": {},
   "outputs": [
    {
     "name": "stdout",
     "output_type": "stream",
     "text": [
      "Clipping counties with state_polygon and outputting layer to c:\\SchimpffGIS\\data\\bluegrass_crops.gdb\\counties ...\n",
      "Clipping gnis with state_polygon and outputting layer to c:\\SchimpffGIS\\data\\bluegrass_crops.gdb\\gnis ...\n",
      "Clipping incoporated_places with state_polygon and outputting layer to c:\\SchimpffGIS\\data\\bluegrass_crops.gdb\\incoporated_places ...\n",
      "Clipping state_polygon with state_polygon and outputting layer to c:\\SchimpffGIS\\data\\bluegrass_crops.gdb\\state_polygon ...\n",
      "Clipping roads with state_polygon and outputting layer to c:\\SchimpffGIS\\data\\bluegrass_crops.gdb\\roads ...\n",
      "Clipping streams with state_polygon and outputting layer to c:\\SchimpffGIS\\data\\bluegrass_crops.gdb\\streams ...\n",
      "Clipping waterbodies with state_polygon and outputting layer to c:\\SchimpffGIS\\data\\bluegrass_crops.gdb\\waterbodies ...\n",
      "Clipping miguels with state_polygon and outputting layer to c:\\SchimpffGIS\\data\\bluegrass_crops.gdb\\miguels ...\n",
      "Clipping one_mi_miguels with state_polygon and outputting layer to c:\\SchimpffGIS\\data\\bluegrass_crops.gdb\\one_mi_miguels ...\n",
      "Clipping gnis_miguels with state_polygon and outputting layer to c:\\SchimpffGIS\\data\\bluegrass_crops.gdb\\gnis_miguels ...\n",
      "Clipping KingdomComeStatePark with state_polygon and outputting layer to c:\\SchimpffGIS\\data\\bluegrass_crops.gdb\\KingdomComeStatePark ...\n",
      "Clipping fiveMiKingdom with state_polygon and outputting layer to c:\\SchimpffGIS\\data\\bluegrass_crops.gdb\\fiveMiKingdom ...\n",
      "Clipping gnisKCSP with state_polygon and outputting layer to c:\\SchimpffGIS\\data\\bluegrass_crops.gdb\\gnisKCSP ...\n",
      "Clipping downtownLex with state_polygon and outputting layer to c:\\SchimpffGIS\\data\\bluegrass_crops.gdb\\downtownLex ...\n",
      "Clipping aoi with state_polygon and outputting layer to c:\\SchimpffGIS\\data\\bluegrass_crops.gdb\\aoi ...\n",
      "Copying aoi_polygon to c:\\SchimpffGIS\\data\\bluegrass_crops.gdb\\aoi_polygon\n",
      "Clipping shaded_relief with state_polygon and outputting layer to c:\\SchimpffGIS\\data\\bluegrass_crops.gdb\\shaded_relief ...\n",
      "Clipping DEM_120_M with state_polygon and outputting layer to c:\\SchimpffGIS\\data\\bluegrass_crops.gdb\\DEM_120_M ...\n",
      "Clipping NLCD_2016_land_cover with state_polygon and outputting layer to c:\\SchimpffGIS\\data\\bluegrass_crops.gdb\\NLCD_2016_land_cover ...\n"
     ]
    }
   ],
   "source": [
    "# Clip vector layers\n",
    "# Create a list of feature class names\n",
    "features = arcpy.ListFeatureClasses()\n",
    "# Loop over list of features\n",
    "for feature in features:\n",
    "    # Make output name\n",
    "    output = f\"{outputDB}\\\\{feature}\"\n",
    "    # If aoi, then don't clip; copy\n",
    "    if feature == aoi_polygon:\n",
    "        arcpy.management.Copy(feature, output)\n",
    "        print(f\"Copying {feature} to {output}\")\n",
    "    else:\n",
    "        print(f\"Clipping {feature} with {aoi} and outputting layer to {output} ...\")\n",
    "        arcpy.analysis.Clip(feature, aoi_polygon, output)\n",
    "\n",
    "# Clip raster layers\n",
    "# Create a list of raster names\n",
    "rasters = arcpy.ListRasters()\n",
    "# Loop over list of rasters\n",
    "for raster in rasters:\n",
    "    output = f\"{outputDB}\\\\{raster}\"\n",
    "    print(f\"Clipping {raster} with {aoi} and outputting layer to {output} ...\")\n",
    "    arcpy.management.Clip(raster, \"#\", output, aoi_polygon, \"#\", \"ClippingGeometry\", \"#\")"
   ]
  },
  {
   "cell_type": "code",
   "execution_count": 16,
   "metadata": {},
   "outputs": [],
   "source": [
    "arcpy.env.workspace = outputDB"
   ]
  },
  {
   "cell_type": "code",
   "execution_count": 17,
   "metadata": {},
   "outputs": [
    {
     "name": "stdout",
     "output_type": "stream",
     "text": [
      "c:\\SchimpffGIS\\data\\bluegrass_crops.gdb\n"
     ]
    }
   ],
   "source": [
    "print(arcpy.env.workspace)"
   ]
  },
  {
   "cell_type": "code",
   "execution_count": 18,
   "metadata": {},
   "outputs": [
    {
     "name": "stdout",
     "output_type": "stream",
     "text": [
      "0.42%, 1.7 sq mi of Open Water\n",
      "9.08%, 36.3 sq mi of Developed, Open Space\n",
      "7.97%, 31.9 sq mi of Developed, Low Intensity\n",
      "4.99%, 20.0 sq mi of Developed, Medium Intensity\n",
      "2.07%, 8.3 sq mi of Developed, High Intensity\n",
      "0.21%, 0.9 sq mi of Barren Land\n",
      "5.87%, 23.5 sq mi of Deciduous Forest\n",
      "0.07%, 0.3 sq mi of Evergreen Forest\n",
      "1.98%, 7.9 sq mi of Mixed Forest\n",
      "0.05%, 0.2 sq mi of Shrub/Scrub\n",
      "0.3%, 1.2 sq mi of Herbaceuous\n",
      "63.4%, 253.5 sq mi of Hay/Pasture\n",
      "3.53%, 14.1 sq mi of Cultivated Crops\n",
      "0.04%, 0.1 sq mi of Woody Wetlands\n",
      "0.01%, 0.0 sq mi of Emergent Herbaceuous Wetlands\n"
     ]
    }
   ],
   "source": [
    "sumCover = 0\n",
    "with arcpy.da.SearchCursor('NLCD_2016_land_cover', ['Count']) as cursor:\n",
    "    for row in cursor:\n",
    "        sumCover += row[0]\n",
    "with arcpy.da.SearchCursor('NLCD_2016_land_cover', ['Count', 'NLCD_Land_Cover_Class']) as cursor:\n",
    "    for row in cursor:\n",
    "        a = (row[0]/sumCover) * 100\n",
    "        b = (row[0] * 98.4**2) / 2.788e+7\n",
    "        a = round(a, 2)\n",
    "        b = round(b, 1)\n",
    "        c = f'{a}%, {b} sq mi of {row[1]}'\n",
    "        print(c)"
   ]
  },
  {
   "cell_type": "markdown",
   "metadata": {},
   "source": [
    "63.4% of Hay/Pasture\n",
    "24.11% of Developed Area\n",
    "5.87% of Decidous Forest\n",
    "3.53% of Cultivated Crops"
   ]
  }
 ],
 "metadata": {
  "kernelspec": {
   "display_name": "ArcGISPro",
   "language": "Python",
   "name": "python3"
  },
  "language_info": {
   "file_extension": ".py",
   "name": "python",
   "version": "3"
  }
 },
 "nbformat": 4,
 "nbformat_minor": 2
}
